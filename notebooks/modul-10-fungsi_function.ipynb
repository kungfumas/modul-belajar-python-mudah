{
  "cells": [
    {
      "cell_type": "markdown",
      "metadata": {
        "id": "view-in-github",
        "colab_type": "text"
      },
      "source": [
        "<a href=\"https://colab.research.google.com/github/kungfumas/modul-belajar-python-mudah/blob/master/notebooks/modul-10-fungsi_function.ipynb\" target=\"_parent\"><img src=\"https://colab.research.google.com/assets/colab-badge.svg\" alt=\"Open In Colab\"/></a>"
      ]
    },
    {
      "cell_type": "markdown",
      "metadata": {
        "id": "cRCa2bg5XLc8"
      },
      "source": [
        "# Praktikum 10 - Fungsi\n",
        "## Tujuan & Manfaat\n",
        "Pada praktikum 10 - Fungsi, mahasiswa diharapkan:\n",
        "   1. Mahasiswa mengerti syntax operator pada python\n",
        "   2. Mahasiswa dapat menjalankan program python menggunakan IDE, maupun di command prompt atau terminal\n",
        "   3. Mahasiswa mengerti konsep dari Fungsi pada python\n",
        "   4. Mahasiswa dapat menerapkan dalam program"
      ]
    },
    {
      "cell_type": "markdown",
      "metadata": {
        "id": "EzmdxQXnXLc-"
      },
      "source": [
        "Fungsi adalah blok kode terorganisir dan dapat digunakan kembali yang digunakan untuk melakukan sebuah tindakan/action. Fungsi memberikan modularitas yang lebih baik untuk aplikasi Anda dan tingkat penggunaan kode yang tinggi.\n",
        "\n",
        "### Mendefinisikan Fungsi Python\n",
        "\n",
        "Anda dapat menentukan fungsi untuk menyediakan fungsionalitas yang dibutuhkan. Berikut adalah aturan sederhana untuk mendefinisikan fungsi dengan Python.\n",
        "\n",
        "- Fungsi blok dimulai dengan def kata kunci diikuti oleh nama fungsi dan tanda kurung (()).\n",
        "- Setiap parameter masukan atau argumen harus ditempatkan di dalam tanda kurung ini. Anda juga dapat menentukan parameter di dalam tanda kurung ini.\n",
        "- Pernyataan pertama dari sebuah fungsi dapat berupa pernyataan opsional - string dokumentasi fungsi atau docstring.\n",
        "- Blok kode dalam setiap fungsi dimulai dengan titik dua (:) dan indentasi.\n",
        "- Pernyataan kembali [ekspresi] keluar dari sebuah fungsi, secara opsional menyampaikan kembali ekspresi ke pemanggil. Pernyataan pengembalian tanpa argumen sama dengan return None.\n",
        "\n",
        "Contoh fungsi"
      ]
    },
    {
      "cell_type": "code",
      "execution_count": null,
      "metadata": {
        "id": "sLA82JbYXLc_",
        "outputId": "1504fac7-2033-4e29-d084-2ea52b48820b"
      },
      "outputs": [
        {
          "name": "stdout",
          "output_type": "stream",
          "text": [
            "hello world\n"
          ]
        }
      ],
      "source": [
        "#contoh 1\n",
        "def printme(str):\n",
        "   \"This prints a passed string into this function\"\n",
        "   print (str)\n",
        "   return\n",
        "printme(\"hello world\")"
      ]
    },
    {
      "cell_type": "code",
      "execution_count": null,
      "metadata": {
        "id": "dMhPyU1oXLdA",
        "outputId": "d94e0daf-9255-40ff-9fa5-cc376302be9f"
      },
      "outputs": [
        {
          "name": "stdout",
          "output_type": "stream",
          "text": [
            "jumlah:  21\n"
          ]
        }
      ],
      "source": [
        "#contoh 2 penjumlahan sebuah barisan angka\n",
        "def jumlah(angka):\n",
        "    total = 0\n",
        "    for x in angka:\n",
        "        total += x\n",
        "    return total\n",
        "\n",
        "print(\"jumlah: \",jumlah((8,3,1,4,5)))"
      ]
    },
    {
      "cell_type": "code",
      "execution_count": null,
      "metadata": {
        "id": "O6dzs4GdXLdB",
        "outputId": "3bf6081e-43c9-4ce3-dbe6-8fa6bd1beeda"
      },
      "outputs": [
        {
          "name": "stdout",
          "output_type": "stream",
          "text": [
            "ganjil\n"
          ]
        }
      ],
      "source": [
        "#contoh 3 pengecekan angka apakah ganjil atau genap?\n",
        "def cek_ganjil_genap(angka):\n",
        "    if angka%2==0:\n",
        "        print(\"genap\")\n",
        "    else:\n",
        "        print(\"ganjil\")\n",
        "    return\n",
        "\n",
        "cek_ganjil_genap(5) #input angka, misalkan 5"
      ]
    },
    {
      "cell_type": "code",
      "source": [],
      "metadata": {
        "id": "b3dzytGjXTU-"
      },
      "execution_count": null,
      "outputs": []
    },
    {
      "cell_type": "code",
      "execution_count": null,
      "metadata": {
        "id": "cquhmmTRXLdB",
        "outputId": "253b1434-6bbe-4999-fd53-ed2892aadf72"
      },
      "outputs": [
        {
          "data": {
            "text/plain": [
              "2.0"
            ]
          },
          "execution_count": 4,
          "metadata": {},
          "output_type": "execute_result"
        }
      ],
      "source": [
        "#contoh 4 perhitungan rata - rata\n",
        "def rata_rata(a,b,c):\n",
        "    return (a+b+c)/3\n",
        "rata_rata(1,2,3)"
      ]
    },
    {
      "cell_type": "code",
      "execution_count": null,
      "metadata": {
        "id": "CDlmoXbEXLdB",
        "outputId": "e84e71f4-ef08-4572-dd69-cb33f479d21e"
      },
      "outputs": [
        {
          "name": "stdout",
          "output_type": "stream",
          "text": [
            "3\n",
            "-1\n",
            "2\n",
            "0.5\n"
          ]
        }
      ],
      "source": [
        "#contoh 5 perhitungan sederhana matematika\n",
        "def kalkulator(angka1,angka2):\n",
        "    print(angka1+angka2)\n",
        "    print(angka1-angka2)\n",
        "    print(angka1*angka2)\n",
        "    print(angka1/angka2)\n",
        "\n",
        "kalkulator(1,2) #inputan 2 angka, angka1:1, dan angka2:2"
      ]
    },
    {
      "cell_type": "markdown",
      "metadata": {
        "id": "RLlfk-3YXLdC"
      },
      "source": [
        "## Latihan\n",
        "**Catatan:** gunakan **python versi 3.x** atau di atas nya\n",
        "1. Jalankan program di atas di komputer anda, menggunakan pycharm, jupyter-notebook, jupyter-lab atau google colab\n",
        "2. Buatlah program menggunakan **function (fungsi)** dengan skenario sebagai berikut:\n",
        "\n",
        "    a. Program menampilkan nilai faktorial dari angka yang di input, seperti pada contoh di bawah berikut:\n",
        "    [![asciicast](https://asciinema.org/a/m6PQJg9TCwBbaRi9SoO7Pcisi.svg)](https://asciinema.org/a/m6PQJg9TCwBbaRi9SoO7Pcisi)\n",
        "    \n",
        "    misalkan input 3, maka hasil jika diuraikan sepert: `1x2x3` = `6`\n",
        "    \n",
        "    b. Program menampilkan karakter dari string upper case dan lower case pada sebuah string, untuk output diperlihatkan di bawah:\n",
        "    ![gambar-10a](https://github.com/kungfumas/modul-belajar-python-mudah/blob/master/notebooks/img/10a.png?raw=1)\n",
        "    \n",
        "    c. Program yang menampilkan segitiga pascal dari input angka, untuk outputnya dapat di lihat di video berikut:\n",
        "    [![asciicast](https://asciinema.org/a/EOjBFpPM4x1wmNIowDIoFXJRc.svg)](https://asciinema.org/a/EOjBFpPM4x1wmNIowDIoFXJRc)\n",
        "    \n",
        "    d. Program yang menampilkan list angka yang di kali-kan dengan angka itu sendiri, untuk outputnya dapat di lihat di video berikut:\n",
        "    [![asciicast](https://asciinema.org/a/J2BJDzqDD7ggAnCqKeoNwfRWD.svg)](https://asciinema.org/a/J2BJDzqDD7ggAnCqKeoNwfRWD)"
      ]
    },
    {
      "cell_type": "markdown",
      "metadata": {
        "id": "jzUyLHfkXLdC"
      },
      "source": [
        "### Format Laporan Praktikum\n",
        "1. Buatlah laporan program nomor 1 yang anda kerjakan di atas & nomor 2, dengan menggunakan pycharm, jupyter-lab, atau jupyter-notebook, dengan format laporan menampilkan\n",
        "    - Pendahuluan\n",
        "    - Tujuan dan manfaat\n",
        "    - Program\n",
        "    - Analisis program\n",
        "    - Referensi\n",
        "2. Upload file laporan praktikum kalian ke google classroom dengan format nama file **nim_anda_praktikum-10.pdf** -> **09081001009_praktikum-10.pdf**\n",
        "\n",
        "## Referensi :\n",
        "1. Real Python - https://realpython.com\n"
      ]
    }
  ],
  "metadata": {
    "kernelspec": {
      "display_name": "Python 3",
      "language": "python",
      "name": "python3"
    },
    "language_info": {
      "codemirror_mode": {
        "name": "ipython",
        "version": 3
      },
      "file_extension": ".py",
      "mimetype": "text/x-python",
      "name": "python",
      "nbconvert_exporter": "python",
      "pygments_lexer": "ipython3",
      "version": "3.7.7"
    },
    "colab": {
      "provenance": [],
      "include_colab_link": true
    }
  },
  "nbformat": 4,
  "nbformat_minor": 0
}